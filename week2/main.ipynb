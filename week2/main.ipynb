{
 "cells": [
  {
   "cell_type": "markdown",
   "metadata": {},
   "source": [
    "# Desafio 1\n",
    "\n",
    "Para esse desafio, vamos trabalhar com o data set [Black Friday](https://www.kaggle.com/mehdidag/black-friday), que reúne dados sobre transações de compras em uma loja de varejo.\n",
    "\n",
    "Vamos utilizá-lo para praticar a exploração de data sets utilizando pandas. Você pode fazer toda análise neste mesmo notebook, mas as resposta devem estar nos locais indicados.\n",
    "\n",
    "> Obs.: Por favor, não modifique o nome das funções de resposta."
   ]
  },
  {
   "cell_type": "markdown",
   "metadata": {},
   "source": [
    "## _Set up_ da análise"
   ]
  },
  {
   "cell_type": "code",
   "execution_count": 1,
   "metadata": {},
   "outputs": [],
   "source": [
    "import pandas as pd\n",
    "import numpy as np"
   ]
  },
  {
   "cell_type": "code",
   "execution_count": 2,
   "metadata": {},
   "outputs": [],
   "source": [
    "black_friday = pd.read_csv(\"black_friday.csv\")"
   ]
  },
  {
   "cell_type": "markdown",
   "metadata": {},
   "source": [
    "## Inicie sua análise a partir daqui"
   ]
  },
  {
   "cell_type": "code",
   "execution_count": 29,
   "metadata": {},
   "outputs": [
    {
     "data": {
      "text/html": [
       "<div>\n",
       "<style scoped>\n",
       "    .dataframe tbody tr th:only-of-type {\n",
       "        vertical-align: middle;\n",
       "    }\n",
       "\n",
       "    .dataframe tbody tr th {\n",
       "        vertical-align: top;\n",
       "    }\n",
       "\n",
       "    .dataframe thead th {\n",
       "        text-align: right;\n",
       "    }\n",
       "</style>\n",
       "<table border=\"1\" class=\"dataframe\">\n",
       "  <thead>\n",
       "    <tr style=\"text-align: right;\">\n",
       "      <th></th>\n",
       "      <th>User_ID</th>\n",
       "      <th>Product_ID</th>\n",
       "      <th>Gender</th>\n",
       "      <th>Age</th>\n",
       "      <th>Occupation</th>\n",
       "      <th>City_Category</th>\n",
       "      <th>Stay_In_Current_City_Years</th>\n",
       "      <th>Marital_Status</th>\n",
       "      <th>Product_Category_1</th>\n",
       "      <th>Product_Category_2</th>\n",
       "      <th>Product_Category_3</th>\n",
       "      <th>Purchase</th>\n",
       "    </tr>\n",
       "  </thead>\n",
       "  <tbody>\n",
       "    <tr>\n",
       "      <th>0</th>\n",
       "      <td>1000001</td>\n",
       "      <td>P00069042</td>\n",
       "      <td>F</td>\n",
       "      <td>0-17</td>\n",
       "      <td>10</td>\n",
       "      <td>A</td>\n",
       "      <td>2</td>\n",
       "      <td>0</td>\n",
       "      <td>3</td>\n",
       "      <td>NaN</td>\n",
       "      <td>NaN</td>\n",
       "      <td>8370</td>\n",
       "    </tr>\n",
       "    <tr>\n",
       "      <th>1</th>\n",
       "      <td>1000001</td>\n",
       "      <td>P00248942</td>\n",
       "      <td>F</td>\n",
       "      <td>0-17</td>\n",
       "      <td>10</td>\n",
       "      <td>A</td>\n",
       "      <td>2</td>\n",
       "      <td>0</td>\n",
       "      <td>1</td>\n",
       "      <td>6.0</td>\n",
       "      <td>14.0</td>\n",
       "      <td>15200</td>\n",
       "    </tr>\n",
       "    <tr>\n",
       "      <th>2</th>\n",
       "      <td>1000001</td>\n",
       "      <td>P00087842</td>\n",
       "      <td>F</td>\n",
       "      <td>0-17</td>\n",
       "      <td>10</td>\n",
       "      <td>A</td>\n",
       "      <td>2</td>\n",
       "      <td>0</td>\n",
       "      <td>12</td>\n",
       "      <td>NaN</td>\n",
       "      <td>NaN</td>\n",
       "      <td>1422</td>\n",
       "    </tr>\n",
       "    <tr>\n",
       "      <th>3</th>\n",
       "      <td>1000001</td>\n",
       "      <td>P00085442</td>\n",
       "      <td>F</td>\n",
       "      <td>0-17</td>\n",
       "      <td>10</td>\n",
       "      <td>A</td>\n",
       "      <td>2</td>\n",
       "      <td>0</td>\n",
       "      <td>12</td>\n",
       "      <td>14.0</td>\n",
       "      <td>NaN</td>\n",
       "      <td>1057</td>\n",
       "    </tr>\n",
       "    <tr>\n",
       "      <th>4</th>\n",
       "      <td>1000002</td>\n",
       "      <td>P00285442</td>\n",
       "      <td>M</td>\n",
       "      <td>55+</td>\n",
       "      <td>16</td>\n",
       "      <td>C</td>\n",
       "      <td>4+</td>\n",
       "      <td>0</td>\n",
       "      <td>8</td>\n",
       "      <td>NaN</td>\n",
       "      <td>NaN</td>\n",
       "      <td>7969</td>\n",
       "    </tr>\n",
       "  </tbody>\n",
       "</table>\n",
       "</div>"
      ],
      "text/plain": [
       "   User_ID Product_ID Gender   Age  Occupation City_Category  \\\n",
       "0  1000001  P00069042      F  0-17          10             A   \n",
       "1  1000001  P00248942      F  0-17          10             A   \n",
       "2  1000001  P00087842      F  0-17          10             A   \n",
       "3  1000001  P00085442      F  0-17          10             A   \n",
       "4  1000002  P00285442      M   55+          16             C   \n",
       "\n",
       "  Stay_In_Current_City_Years  Marital_Status  Product_Category_1  \\\n",
       "0                          2               0                   3   \n",
       "1                          2               0                   1   \n",
       "2                          2               0                  12   \n",
       "3                          2               0                  12   \n",
       "4                         4+               0                   8   \n",
       "\n",
       "   Product_Category_2  Product_Category_3  Purchase  \n",
       "0                 NaN                 NaN      8370  \n",
       "1                 6.0                14.0     15200  \n",
       "2                 NaN                 NaN      1422  \n",
       "3                14.0                 NaN      1057  \n",
       "4                 NaN                 NaN      7969  "
      ]
     },
     "execution_count": 29,
     "metadata": {},
     "output_type": "execute_result"
    }
   ],
   "source": [
    "df = black_friday\n",
    "df.head()"
   ]
  },
  {
   "cell_type": "code",
   "execution_count": 30,
   "metadata": {},
   "outputs": [
    {
     "data": {
      "text/plain": [
       "<bound method NDFrame.describe of         User_ID Product_ID Gender    Age  Occupation City_Category  \\\n",
       "0       1000001  P00069042      F   0-17          10             A   \n",
       "1       1000001  P00248942      F   0-17          10             A   \n",
       "2       1000001  P00087842      F   0-17          10             A   \n",
       "3       1000001  P00085442      F   0-17          10             A   \n",
       "4       1000002  P00285442      M    55+          16             C   \n",
       "5       1000003  P00193542      M  26-35          15             A   \n",
       "6       1000004  P00184942      M  46-50           7             B   \n",
       "7       1000004  P00346142      M  46-50           7             B   \n",
       "8       1000004   P0097242      M  46-50           7             B   \n",
       "9       1000005  P00274942      M  26-35          20             A   \n",
       "10      1000005  P00251242      M  26-35          20             A   \n",
       "11      1000005  P00014542      M  26-35          20             A   \n",
       "12      1000005  P00031342      M  26-35          20             A   \n",
       "13      1000005  P00145042      M  26-35          20             A   \n",
       "14      1000006  P00231342      F  51-55           9             A   \n",
       "15      1000006  P00190242      F  51-55           9             A   \n",
       "16      1000006   P0096642      F  51-55           9             A   \n",
       "17      1000006  P00058442      F  51-55           9             A   \n",
       "18      1000007  P00036842      M  36-45           1             B   \n",
       "19      1000008  P00249542      M  26-35          12             C   \n",
       "20      1000008  P00220442      M  26-35          12             C   \n",
       "21      1000008  P00156442      M  26-35          12             C   \n",
       "22      1000008  P00213742      M  26-35          12             C   \n",
       "23      1000008  P00214442      M  26-35          12             C   \n",
       "24      1000008  P00303442      M  26-35          12             C   \n",
       "25      1000009  P00135742      M  26-35          17             C   \n",
       "26      1000009  P00039942      M  26-35          17             C   \n",
       "27      1000009  P00161442      M  26-35          17             C   \n",
       "28      1000009  P00078742      M  26-35          17             C   \n",
       "29      1000010  P00085942      F  36-45           1             B   \n",
       "...         ...        ...    ...    ...         ...           ...   \n",
       "537547  1004733  P00244042      M  18-25          18             C   \n",
       "537548  1004734  P00111042      M  51-55           1             B   \n",
       "537549  1004734  P00345842      M  51-55           1             B   \n",
       "537550  1004735  P00278242      M  46-50           3             C   \n",
       "537551  1004735  P00313442      M  46-50           3             C   \n",
       "537552  1004735   P0098642      M  46-50           3             C   \n",
       "537553  1004735  P00119342      M  46-50           3             C   \n",
       "537554  1004735  P00114042      M  46-50           3             C   \n",
       "537555  1004735  P00135142      M  46-50           3             C   \n",
       "537556  1004736  P00194542      M  18-25          20             A   \n",
       "537557  1004736  P00175242      M  18-25          20             A   \n",
       "537558  1004736  P00101942      M  18-25          20             A   \n",
       "537559  1004736  P00109142      M  18-25          20             A   \n",
       "537560  1004736  P00084842      M  18-25          20             A   \n",
       "537561  1004736  P00078142      M  18-25          20             A   \n",
       "537562  1004736  P00146742      M  18-25          20             A   \n",
       "537563  1004736  P00154642      M  18-25          20             A   \n",
       "537564  1004736  P00117442      M  18-25          20             A   \n",
       "537565  1004736  P00051142      M  18-25          20             A   \n",
       "537566  1004736  P00048742      M  18-25          20             A   \n",
       "537567  1004736  P00157542      M  18-25          20             A   \n",
       "537568  1004736  P00250642      M  18-25          20             A   \n",
       "537569  1004736  P00023142      M  18-25          20             A   \n",
       "537570  1004736  P00162442      M  18-25          20             A   \n",
       "537571  1004737  P00221442      M  36-45          16             C   \n",
       "537572  1004737  P00193542      M  36-45          16             C   \n",
       "537573  1004737  P00111142      M  36-45          16             C   \n",
       "537574  1004737  P00345942      M  36-45          16             C   \n",
       "537575  1004737  P00285842      M  36-45          16             C   \n",
       "537576  1004737  P00118242      M  36-45          16             C   \n",
       "\n",
       "       Stay_In_Current_City_Years  Marital_Status  Product_Category_1  \\\n",
       "0                               2               0                   3   \n",
       "1                               2               0                   1   \n",
       "2                               2               0                  12   \n",
       "3                               2               0                  12   \n",
       "4                              4+               0                   8   \n",
       "5                               3               0                   1   \n",
       "6                               2               1                   1   \n",
       "7                               2               1                   1   \n",
       "8                               2               1                   1   \n",
       "9                               1               1                   8   \n",
       "10                              1               1                   5   \n",
       "11                              1               1                   8   \n",
       "12                              1               1                   8   \n",
       "13                              1               1                   1   \n",
       "14                              1               0                   5   \n",
       "15                              1               0                   4   \n",
       "16                              1               0                   2   \n",
       "17                              1               0                   5   \n",
       "18                              1               1                   1   \n",
       "19                             4+               1                   1   \n",
       "20                             4+               1                   5   \n",
       "21                             4+               1                   8   \n",
       "22                             4+               1                   8   \n",
       "23                             4+               1                   8   \n",
       "24                             4+               1                   1   \n",
       "25                              0               0                   6   \n",
       "26                              0               0                   8   \n",
       "27                              0               0                   5   \n",
       "28                              0               0                   5   \n",
       "29                             4+               1                   2   \n",
       "...                           ...             ...                 ...   \n",
       "537547                          1               0                   1   \n",
       "537548                          1               1                  15   \n",
       "537549                          1               1                   2   \n",
       "537550                          3               0                   1   \n",
       "537551                          3               0                   5   \n",
       "537552                          3               0                   6   \n",
       "537553                          3               0                  10   \n",
       "537554                          3               0                   5   \n",
       "537555                          3               0                  13   \n",
       "537556                          1               1                   8   \n",
       "537557                          1               1                   2   \n",
       "537558                          1               1                   8   \n",
       "537559                          1               1                   8   \n",
       "537560                          1               1                   8   \n",
       "537561                          1               1                   8   \n",
       "537562                          1               1                   1   \n",
       "537563                          1               1                   8   \n",
       "537564                          1               1                   5   \n",
       "537565                          1               1                   8   \n",
       "537566                          1               1                   5   \n",
       "537567                          1               1                   8   \n",
       "537568                          1               1                  11   \n",
       "537569                          1               1                   5   \n",
       "537570                          1               1                   1   \n",
       "537571                          1               0                   1   \n",
       "537572                          1               0                   1   \n",
       "537573                          1               0                   1   \n",
       "537574                          1               0                   8   \n",
       "537575                          1               0                   5   \n",
       "537576                          1               0                   5   \n",
       "\n",
       "        Product_Category_2  Product_Category_3  Purchase  \n",
       "0                      NaN                 NaN      8370  \n",
       "1                      6.0                14.0     15200  \n",
       "2                      NaN                 NaN      1422  \n",
       "3                     14.0                 NaN      1057  \n",
       "4                      NaN                 NaN      7969  \n",
       "5                      2.0                 NaN     15227  \n",
       "6                      8.0                17.0     19215  \n",
       "7                     15.0                 NaN     15854  \n",
       "8                     16.0                 NaN     15686  \n",
       "9                      NaN                 NaN      7871  \n",
       "10                    11.0                 NaN      5254  \n",
       "11                     NaN                 NaN      3957  \n",
       "12                     NaN                 NaN      6073  \n",
       "13                     2.0                 5.0     15665  \n",
       "14                     8.0                14.0      5378  \n",
       "15                     5.0                 NaN      2079  \n",
       "16                     3.0                 4.0     13055  \n",
       "17                    14.0                 NaN      8851  \n",
       "18                    14.0                16.0     11788  \n",
       "19                     5.0                15.0     19614  \n",
       "20                    14.0                 NaN      8584  \n",
       "21                     NaN                 NaN      9872  \n",
       "22                     NaN                 NaN      9743  \n",
       "23                     NaN                 NaN      5982  \n",
       "24                     8.0                14.0     11927  \n",
       "25                     8.0                 NaN     16662  \n",
       "26                     NaN                 NaN      5887  \n",
       "27                    14.0                 NaN      6973  \n",
       "28                     8.0                14.0      5391  \n",
       "29                     4.0                 8.0     16352  \n",
       "...                    ...                 ...       ...  \n",
       "537547                 2.0                15.0     11543  \n",
       "537548                 NaN                 NaN     20924  \n",
       "537549                 8.0                14.0     13082  \n",
       "537550                 NaN                 NaN     11658  \n",
       "537551                 6.0                 8.0      6863  \n",
       "537552                 8.0                 NaN     16415  \n",
       "537553                13.0                 NaN     18526  \n",
       "537554                14.0                 NaN      7099  \n",
       "537555                16.0                 NaN       578  \n",
       "537556                14.0                 NaN      2183  \n",
       "537557                 NaN                 NaN     12724  \n",
       "537558                17.0                 NaN      7796  \n",
       "537559                17.0                 NaN      7770  \n",
       "537560                16.0                 NaN      5940  \n",
       "537561                16.0                 NaN      7834  \n",
       "537562                13.0                14.0     11508  \n",
       "537563                 NaN                 NaN      6074  \n",
       "537564                14.0                 NaN      7084  \n",
       "537565                 NaN                 NaN      7934  \n",
       "537566                 NaN                 NaN      5350  \n",
       "537567                14.0                 NaN      1994  \n",
       "537568                 NaN                 NaN      5930  \n",
       "537569                14.0                 NaN      7042  \n",
       "537570                16.0                 NaN     15491  \n",
       "537571                 2.0                 5.0     11852  \n",
       "537572                 2.0                 NaN     11664  \n",
       "537573                15.0                16.0     19196  \n",
       "537574                15.0                 NaN      8043  \n",
       "537575                 NaN                 NaN      7172  \n",
       "537576                 8.0                 NaN      6875  \n",
       "\n",
       "[537577 rows x 12 columns]>"
      ]
     },
     "execution_count": 30,
     "metadata": {},
     "output_type": "execute_result"
    }
   ],
   "source": [
    "df.describe"
   ]
  },
  {
   "cell_type": "markdown",
   "metadata": {},
   "source": [
    "## Questão 1\n",
    "\n",
    "Quantas observações e quantas colunas há no dataset? Responda no formato de uma tuple `(n_observacoes, n_colunas)`."
   ]
  },
  {
   "cell_type": "code",
   "execution_count": 3,
   "metadata": {},
   "outputs": [],
   "source": [
    "def q1():\n",
    "    return df.shape"
   ]
  },
  {
   "cell_type": "markdown",
   "metadata": {},
   "source": [
    "## Questão 2\n",
    "\n",
    "Há quantas mulheres com idade entre 26 e 35 anos no dataset? Responda como um único escalar."
   ]
  },
  {
   "cell_type": "code",
   "execution_count": null,
   "metadata": {},
   "outputs": [],
   "source": [
    "def q2():\n",
    "    return sum((df['Age'] == '26-35') & (df['Gender'] == 'F'))"
   ]
  },
  {
   "cell_type": "markdown",
   "metadata": {},
   "source": [
    "## Questão 3\n",
    "\n",
    "Quantos usuários únicos há no dataset? Responda como um único escalar."
   ]
  },
  {
   "cell_type": "code",
   "execution_count": null,
   "metadata": {},
   "outputs": [],
   "source": [
    "def q3():\n",
    "    return df['User_ID'].nunique()"
   ]
  },
  {
   "cell_type": "markdown",
   "metadata": {},
   "source": [
    "## Questão 4\n",
    "\n",
    "Quantos tipos de dados diferentes existem no dataset? Responda como um único escalar."
   ]
  },
  {
   "cell_type": "code",
   "execution_count": null,
   "metadata": {},
   "outputs": [],
   "source": [
    "def q4():\n",
    "    return df.dtypes.nunique()"
   ]
  },
  {
   "cell_type": "markdown",
   "metadata": {},
   "source": [
    "## Questão 5\n",
    "\n",
    "Qual porcentagem dos registros possui ao menos um valor null (`None`, `ǸaN` etc)? Responda como um único escalar entre 0 e 1."
   ]
  },
  {
   "cell_type": "code",
   "execution_count": null,
   "metadata": {},
   "outputs": [],
   "source": [
    "def q5():\n",
    "    return (len(df) - len(df.dropna())) / len(df)"
   ]
  },
  {
   "cell_type": "markdown",
   "metadata": {},
   "source": [
    "## Questão 6\n",
    "\n",
    "Quantos valores null existem na variável (coluna) com o maior número de null? Responda como um único escalar."
   ]
  },
  {
   "cell_type": "code",
   "execution_count": null,
   "metadata": {},
   "outputs": [],
   "source": [
    "def q6():\n",
    "    return max(df.isnull().sum())"
   ]
  },
  {
   "cell_type": "markdown",
   "metadata": {},
   "source": [
    "## Questão 7\n",
    "\n",
    "Qual o valor mais frequente (sem contar nulls) em `Product_Category_3`? Responda como um único escalar."
   ]
  },
  {
   "cell_type": "code",
   "execution_count": null,
   "metadata": {},
   "outputs": [],
   "source": [
    "def q7():\n",
    "    return df['Product_Category_3'].mode()[0]"
   ]
  },
  {
   "cell_type": "markdown",
   "metadata": {},
   "source": [
    "## Questão 8\n",
    "\n",
    "Qual a nova média da variável (coluna) `Purchase` após sua normalização? Responda como um único escalar."
   ]
  },
  {
   "cell_type": "code",
   "execution_count": 1,
   "metadata": {},
   "outputs": [],
   "source": [
    "def q8():\n",
    "    col = black_friday[\"Purchase\"]\n",
    "    minimo = col.min()\n",
    "    maximo = col.max()\n",
    "    black_friday[\"Purchase_normalized\"] = (col - minimo) / (maximo - minimo)\n",
    "    return float(black_friday[\"Purchase_normalized\"].mean())"
   ]
  },
  {
   "cell_type": "markdown",
   "metadata": {},
   "source": [
    "## Questão 9\n",
    "\n",
    "Quantas ocorrências entre -1 e 1 inclusive existem da variáel `Purchase` após sua padronização? Responda como um único escalar."
   ]
  },
  {
   "cell_type": "code",
   "execution_count": null,
   "metadata": {},
   "outputs": [],
   "source": [
    "def q9():\n",
    "    df['Purchase_padr'] = (df['Purchase'] - df['Purchase'].mean()) / df['Purchase'].std()\n",
    "    return sum((df['Purchase_padr'] >=-1) & (df['Purchase_padr'] <=1))"
   ]
  },
  {
   "cell_type": "markdown",
   "metadata": {},
   "source": [
    "## Questão 10\n",
    "\n",
    "Podemos afirmar que se uma observação é null em `Product_Category_2` ela também o é em `Product_Category_3`? Responda com um bool (`True`, `False`)."
   ]
  },
  {
   "cell_type": "code",
   "execution_count": null,
   "metadata": {},
   "outputs": [],
   "source": [
    "def q10():\n",
    "    prod_c2 = df[black_friday['Product_Category_2'].isna()]\n",
    "    return bool(prod_c2.shape[0] == prod_c2['Product_Category_3'].isna().sum())"
   ]
  }
 ],
 "metadata": {
  "kernelspec": {
   "display_name": "Python 3",
   "language": "python",
   "name": "python3"
  },
  "language_info": {
   "codemirror_mode": {
    "name": "ipython",
    "version": 3
   },
   "file_extension": ".py",
   "mimetype": "text/x-python",
   "name": "python",
   "nbconvert_exporter": "python",
   "pygments_lexer": "ipython3",
   "version": "3.7.7"
  }
 },
 "nbformat": 4,
 "nbformat_minor": 4
}
